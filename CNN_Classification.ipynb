{
  "cells": [
    {
      "cell_type": "code",
      "execution_count": null,
      "metadata": {
        "id": "WgHJcj0PXCpJ"
      },
      "outputs": [],
      "source": [
        "!mkdir -p ~/.kaggle\n",
        "!cp kaggle.json ~/.kaggle/"
      ]
    },
    {
      "cell_type": "code",
      "execution_count": null,
      "metadata": {
        "colab": {
          "base_uri": "https://localhost:8080/"
        },
        "id": "xE8SutcAgISK",
        "outputId": "01478aac-b99d-470c-b11e-ce520eceb82f"
      },
      "outputs": [
        {
          "name": "stdout",
          "output_type": "stream",
          "text": [
            "Warning: Your Kaggle API key is readable by other users on this system! To fix this, you can run 'chmod 600 /root/.kaggle/kaggle.json'\n",
            "Downloading dogs-vs-cats.zip to /content\n",
            " 97% 1.04G/1.06G [00:05<00:00, 211MB/s]\n",
            "100% 1.06G/1.06G [00:05<00:00, 200MB/s]\n"
          ]
        }
      ],
      "source": [
        "!kaggle datasets download -d salader/dogs-vs-cats"
      ]
    },
    {
      "cell_type": "code",
      "execution_count": null,
      "metadata": {
        "id": "YhbcGx9agjDO"
      },
      "outputs": [],
      "source": [
        "import zipfile\n",
        "zip_ref = zipfile.ZipFile('/content/dogs-vs-cats.zip','r')\n",
        "zip_ref.extractall('/content')\n",
        "zip_ref.close()"
      ]
    },
    {
      "cell_type": "code",
      "execution_count": null,
      "metadata": {
        "id": "UCm9kOB5hRni"
      },
      "outputs": [],
      "source": [
        "import tensorflow as tf\n",
        "from tensorflow import keras\n",
        "from keras import Sequential\n",
        "from keras.layers import Dense,Conv2D,MaxPooling2D,Flatten,BatchNormalization,Dropout"
      ]
    },
    {
      "cell_type": "code",
      "execution_count": null,
      "metadata": {
        "colab": {
          "base_uri": "https://localhost:8080/"
        },
        "id": "ow159DeZhmm3",
        "outputId": "f700d181-9c14-4bd9-f746-414b714b213b"
      },
      "outputs": [
        {
          "name": "stdout",
          "output_type": "stream",
          "text": [
            "Found 20000 files belonging to 2 classes.\n",
            "Found 5000 files belonging to 2 classes.\n"
          ]
        }
      ],
      "source": [
        "# Generators\n",
        "train_ds = keras.utils.image_dataset_from_directory(\n",
        "    directory='/content/train',\n",
        "    labels='inferred',\n",
        "    label_mode = 'int',\n",
        "    batch_size=32,\n",
        "    image_size=(256,256)\n",
        ")\n",
        "\n",
        "validation_ds = keras.utils.image_dataset_from_directory(\n",
        "    directory='/content/test',\n",
        "    labels='inferred',\n",
        "    label_mode = 'int',\n",
        "    batch_size=32,\n",
        "    image_size=(256,256)\n",
        ")"
      ]
    },
    {
      "cell_type": "code",
      "execution_count": null,
      "metadata": {
        "id": "4e0lm3_PjMTe"
      },
      "outputs": [],
      "source": [
        "# Normalize\n",
        "def process (image,label):\n",
        "  image = tf.cast(image/255,tf.float32)\n",
        "  return image,label\n",
        "\n",
        "train_ds = train_ds.map(process)\n",
        "validation_ds = validation_ds.map(process)"
      ]
    },
    {
      "cell_type": "code",
      "execution_count": null,
      "metadata": {
        "id": "O45Layd_kAMq"
      },
      "outputs": [],
      "source": [
        "# Create CNN Model\n",
        "\n",
        "model = Sequential()\n",
        "#Layer1\n",
        "model.add(Conv2D(32,kernel_size=(3,3),\n",
        "                 padding='valid',\n",
        "                 activation='relu',\n",
        "                 input_shape=(256,256,3)))\n",
        "model.add(MaxPooling2D(pool_size=(2,2),\n",
        "                       strides=2,\n",
        "                       padding='valid'))\n",
        "model.add(BatchNormalization())\n",
        "#Layer2\n",
        "model.add(Conv2D(64,kernel_size=(3,3),\n",
        "                 padding='valid',\n",
        "                 activation='relu'))\n",
        "model.add(MaxPooling2D(pool_size=(2,2),\n",
        "                       strides=2,\n",
        "                       padding='valid'))\n",
        "model.add(BatchNormalization())\n",
        "#Layer3\n",
        "model.add(Conv2D(128,kernel_size=(3,3),\n",
        "                 padding='valid',\n",
        "                 activation='relu'))\n",
        "model.add(MaxPooling2D(pool_size=(2,2),\n",
        "                       strides=2,\n",
        "                       padding='valid'))\n",
        "#Flatten Layer\n",
        "model.add(Flatten())\n",
        "\n",
        "# DropOut Here\n",
        "model.add(Dropout(0.5))\n",
        "\n",
        "#Dense Layer also called fully connected Layer\n",
        "model.add(Dense(128,activation='relu'))\n",
        "model.add(Dense(64,activation='relu'))\n",
        "\n",
        "model.add(Dense(1,activation='sigmoid'))"
      ]
    },
    {
      "cell_type": "code",
      "execution_count": null,
      "metadata": {
        "colab": {
          "base_uri": "https://localhost:8080/"
        },
        "id": "EnY4d0tkmQHB",
        "outputId": "05bdb01e-96d8-436f-fcb4-1a4f3529fd75"
      },
      "outputs": [
        {
          "name": "stdout",
          "output_type": "stream",
          "text": [
            "Model: \"sequential\"\n",
            "_________________________________________________________________\n",
            " Layer (type)                Output Shape              Param #   \n",
            "=================================================================\n",
            " conv2d (Conv2D)             (None, 254, 254, 32)      896       \n",
            "                                                                 \n",
            " max_pooling2d (MaxPooling2D  (None, 127, 127, 32)     0         \n",
            " )                                                               \n",
            "                                                                 \n",
            " batch_normalization (BatchN  (None, 127, 127, 32)     128       \n",
            " ormalization)                                                   \n",
            "                                                                 \n",
            " conv2d_1 (Conv2D)           (None, 125, 125, 64)      18496     \n",
            "                                                                 \n",
            " max_pooling2d_1 (MaxPooling  (None, 62, 62, 64)       0         \n",
            " 2D)                                                             \n",
            "                                                                 \n",
            " batch_normalization_1 (Batc  (None, 62, 62, 64)       256       \n",
            " hNormalization)                                                 \n",
            "                                                                 \n",
            " conv2d_2 (Conv2D)           (None, 60, 60, 128)       73856     \n",
            "                                                                 \n",
            " max_pooling2d_2 (MaxPooling  (None, 30, 30, 128)      0         \n",
            " 2D)                                                             \n",
            "                                                                 \n",
            " flatten (Flatten)           (None, 115200)            0         \n",
            "                                                                 \n",
            " dropout (Dropout)           (None, 115200)            0         \n",
            "                                                                 \n",
            " dense (Dense)               (None, 128)               14745728  \n",
            "                                                                 \n",
            " dense_1 (Dense)             (None, 64)                8256      \n",
            "                                                                 \n",
            " dense_2 (Dense)             (None, 1)                 65        \n",
            "                                                                 \n",
            "=================================================================\n",
            "Total params: 14,847,681\n",
            "Trainable params: 14,847,489\n",
            "Non-trainable params: 192\n",
            "_________________________________________________________________\n"
          ]
        }
      ],
      "source": [
        "model.summary()"
      ]
    },
    {
      "cell_type": "code",
      "execution_count": null,
      "metadata": {
        "id": "uOs-Ls_kmVO7"
      },
      "outputs": [],
      "source": [
        "opt = keras.optimizers.Adam(learning_rate=0.001)\n",
        "model.compile(optimizer= opt,loss='binary_crossentropy',metrics=['accuracy'])\n"
      ]
    },
    {
      "cell_type": "code",
      "execution_count": null,
      "metadata": {
        "colab": {
          "background_save": true,
          "base_uri": "https://localhost:8080/"
        },
        "id": "8Ltcq57It6bm",
        "outputId": "5c80b37e-e959-4360-a1de-a99672e60cae"
      },
      "outputs": [
        {
          "name": "stdout",
          "output_type": "stream",
          "text": [
            "Epoch 1/20\n",
            "625/625 [==============================] - 3045s 5s/step - loss: 0.6286 - accuracy: 0.6789 - val_loss: 0.5580 - val_accuracy: 0.7176\n",
            "Epoch 2/20\n",
            "111/625 [====>.........................] - ETA: 39:49 - loss: 0.4996 - accuracy: 0.7610"
          ]
        }
      ],
      "source": [
        "model1 = model.fit(train_ds,epochs=20,validation_data=validation_ds)"
      ]
    },
    {
      "cell_type": "code",
      "execution_count": null,
      "metadata": {
        "colab": {
          "base_uri": "https://localhost:8080/"
        },
        "id": "1qQ9qAQ3mw3N",
        "outputId": "a73e93cd-2041-4ede-ea41-a587fa1c61f8"
      },
      "outputs": [
        {
          "name": "stdout",
          "output_type": "stream",
          "text": [
            "Epoch 1/10\n",
            "625/625 [==============================] - 60s 94ms/step - loss: 0.6208 - accuracy: 0.6435 - val_loss: 0.5357 - val_accuracy: 0.7374\n",
            "Epoch 2/10\n",
            "625/625 [==============================] - 59s 94ms/step - loss: 0.4854 - accuracy: 0.7644 - val_loss: 0.5043 - val_accuracy: 0.7598\n",
            "Epoch 3/10\n",
            "625/625 [==============================] - 59s 93ms/step - loss: 0.3867 - accuracy: 0.8218 - val_loss: 0.4828 - val_accuracy: 0.7926\n",
            "Epoch 4/10\n",
            "625/625 [==============================] - 59s 94ms/step - loss: 0.2703 - accuracy: 0.8842 - val_loss: 0.6173 - val_accuracy: 0.7978\n",
            "Epoch 5/10\n",
            "625/625 [==============================] - 59s 94ms/step - loss: 0.1838 - accuracy: 0.9283 - val_loss: 0.6764 - val_accuracy: 0.7846\n",
            "Epoch 6/10\n",
            "625/625 [==============================] - 59s 93ms/step - loss: 0.1272 - accuracy: 0.9521 - val_loss: 1.0269 - val_accuracy: 0.7644\n",
            "Epoch 7/10\n",
            "625/625 [==============================] - 59s 93ms/step - loss: 0.1068 - accuracy: 0.9630 - val_loss: 0.7683 - val_accuracy: 0.7962\n",
            "Epoch 8/10\n",
            "625/625 [==============================] - 59s 93ms/step - loss: 0.0752 - accuracy: 0.9744 - val_loss: 0.9081 - val_accuracy: 0.7940\n",
            "Epoch 9/10\n",
            "625/625 [==============================] - 78s 124ms/step - loss: 0.0695 - accuracy: 0.9764 - val_loss: 0.8854 - val_accuracy: 0.7932\n",
            "Epoch 10/10\n",
            "625/625 [==============================] - 59s 94ms/step - loss: 0.0533 - accuracy: 0.9825 - val_loss: 0.9472 - val_accuracy: 0.7860\n"
          ]
        }
      ],
      "source": [
        "model2 = model.fit(train_ds,epochs=10,validation_data=validation_ds)"
      ]
    },
    {
      "cell_type": "code",
      "execution_count": null,
      "metadata": {
        "colab": {
          "base_uri": "https://localhost:8080/",
          "height": 265
        },
        "id": "7AsoSzzingnl",
        "outputId": "14fe013d-1f7d-4e32-c42e-9fe70a3ff3c2"
      },
      "outputs": [
        {
          "data": {
            "image/png": "[encoded data removed]",
            "text/plain": [
              "<Figure size 432x288 with 1 Axes>"
            ]
          },
          "metadata": {},
          "output_type": "display_data"
        }
      ],
      "source": [
        "# Previous Model\n",
        "\n",
        "import matplotlib.pyplot as plt\n",
        "plt.plot(model2.history['accuracy'],color='red',label='train')\n",
        "plt.plot(model2.history['val_accuracy'],color='blue',label='validation')\n",
        "plt.legend()\n",
        "plt.show()"
      ]
    },
    {
      "cell_type": "code",
      "execution_count": null,
      "metadata": {
        "id": "VvbzhsiBhL0z"
      },
      "outputs": [],
      "source": [
        "# Current Model \n",
        "\n",
        "import matplotlib.pyplot as plt\n",
        "plt.plot(model1.model1['accuracy'],color='red',label='train')\n",
        "plt.plot(model1.model1['val_accuracy'],color='blue',label='validation')\n",
        "plt.legend()\n",
        "plt.show()"
      ]
    },
    {
      "cell_type": "code",
      "execution_count": null,
      "metadata": {
        "colab": {
          "base_uri": "https://localhost:8080/",
          "height": 265
        },
        "id": "evRo6N1lrksj",
        "outputId": "9264238c-a37e-43c0-ba5e-10d9aa19a8e6"
      },
      "outputs": [
        {
          "data": {
            "image/png": "[encoded data removed]",
            "text/plain": [
              "<Figure size 432x288 with 1 Axes>"
            ]
          },
          "metadata": {},
          "output_type": "display_data"
        }
      ],
      "source": [
        "# Previous Model\n",
        "plt.plot(model2.history['loss'],color='red',label='train')\n",
        "plt.plot(model2.history['val_loss'],color='blue',label='validation')\n",
        "plt.legend()\n",
        "plt.show()"
      ]
    },
    {
      "cell_type": "code",
      "execution_count": null,
      "metadata": {
        "id": "o1q6zgY3hNdS"
      },
      "outputs": [],
      "source": [
        "# Current Model\n",
        "plt.plot(model1.model1['loss'],color='red',label='train')\n",
        "plt.plot(model1.model1['val_loss'],color='blue',label='validation')\n",
        "plt.legend()\n",
        "plt.show()"
      ]
    }
  ],
  "metadata": {
    "accelerator": "GPU",
    "colab": {
      "provenance": []
    },
    "kernelspec": {
      "display_name": "Python 3",
      "name": "python3"
    },
    "language_info": {
      "name": "python"
    }
  },
  "nbformat": 4,
  "nbformat_minor": 0
}